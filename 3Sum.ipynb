{
 "cells": [
  {
   "cell_type": "code",
   "execution_count": 3,
   "id": "210aa52e",
   "metadata": {},
   "outputs": [],
   "source": [
    "class Solution:\n",
    "    def threeSum(self, nums):\n",
    "        _zeroSums = []\n",
    "        if len(nums) < 3:\n",
    "            return []\n",
    "        if len(nums) == 3:\n",
    "            if sum(nums) == 0:\n",
    "                return [nums]\n",
    "            else:\n",
    "                return []\n",
    "        nums.sort()\n",
    "        for i in range(len(nums) - 3):\n",
    "            if nums[i] > 0:\n",
    "                return _zeroSums\n",
    "            if i == 0 or nums[i-1] != nums[i]:\n",
    "                j = i + 1\n",
    "                k = len(nums) - 1\n",
    "                _rem = 0 - nums[i]\n",
    "                while j < k:\n",
    "                    if nums[j] + nums[k] == _rem:\n",
    "                        _zeroSums.append([nums[i],nums[j],nums[k]])\n",
    "                        j += 1\n",
    "                        while j < k and nums[j-1] == nums[j]:\n",
    "                            j += 1\n",
    "                        k -= 1\n",
    "                        while j < k and nums[k+1] == nums[k]:\n",
    "                            k -= 1                        \n",
    "                        \n",
    "                    elif nums[j] + nums[k] > _rem:\n",
    "                        k -=1\n",
    "                        while j < k and nums[k+1] == nums[k]:\n",
    "                            k -= 1 \n",
    "                    else:\n",
    "                        j += 1\n",
    "                        while j < k and nums[j-1] == nums[j]:\n",
    "                            j += 1\n",
    "                    \n",
    "        return _zeroSums"
   ]
  },
  {
   "cell_type": "code",
   "execution_count": 6,
   "id": "b432f54c",
   "metadata": {},
   "outputs": [],
   "source": [
    "class Solution1:\n",
    "    def threeSum(self, nums):\n",
    "        _zeroSums = []\n",
    "        if len(nums) < 3:\n",
    "            return []\n",
    "        if len(nums) == 3:\n",
    "            if sum(nums) == 0:\n",
    "                return [nums]\n",
    "            else:\n",
    "                return []\n",
    "        nums.sort()\n",
    "        for i in range(len(nums) -2):\n",
    "            if nums[i] > 0:\n",
    "                return _zeroSums\n",
    "            if i == 0 or nums[i-1] != nums[i]:\n",
    "                _seen = {}\n",
    "                j = i + 1\n",
    "                while j < len(nums):\n",
    "                    _rem = 0 - nums[i] - nums[j]\n",
    "                    if _rem in _seen:\n",
    "                        _zeroSums.append([nums[i], nums[j], _rem])\n",
    "                        while j + 1 < len(nums) and nums[j] == nums[j+1]:\n",
    "                            j += 1\n",
    "                    _seen[nums[j]] = 1\n",
    "                    j += 1\n",
    "                    \n",
    "        return _zeroSums \n",
    "    "
   ]
  },
  {
   "cell_type": "code",
   "execution_count": 9,
   "id": "740f3bd9",
   "metadata": {},
   "outputs": [],
   "source": [
    "class Solution2:\n",
    "    def threeSum(self, nums):\n",
    "        _zeroSums, _dups = set(), set()\n",
    "        seen = {}\n",
    "        for i in range(len(nums)):\n",
    "            if nums[i] not in _dups:\n",
    "                _dups.add(nums[i])\n",
    "                for j in range(i+1, len(nums)):\n",
    "                    _rem = -nums[i] - nums[j]\n",
    "                    if _rem in seen and seen[_rem] == i:\n",
    "                        _zeroSums.add(tuple(sorted((nums[i], nums[j], _rem))))\n",
    "                    seen[nums[j]] = i\n",
    "        return _zeroSums "
   ]
  },
  {
   "cell_type": "code",
   "execution_count": 10,
   "id": "02fe7ffb",
   "metadata": {},
   "outputs": [
    {
     "name": "stdout",
     "output_type": "stream",
     "text": [
      "{(0, 0, 0)}\n"
     ]
    }
   ],
   "source": [
    "sol  = Solution2()\n",
    "nums = []\n",
    "nums = [0,0,0,1,-1]\n",
    "nums = [0,0,0,0]\n",
    "print(sol.threeSum(nums))"
   ]
  },
  {
   "cell_type": "code",
   "execution_count": null,
   "id": "b872383e",
   "metadata": {},
   "outputs": [],
   "source": []
  }
 ],
 "metadata": {
  "kernelspec": {
   "display_name": "Python 3 (ipykernel)",
   "language": "python",
   "name": "python3"
  },
  "language_info": {
   "codemirror_mode": {
    "name": "ipython",
    "version": 3
   },
   "file_extension": ".py",
   "mimetype": "text/x-python",
   "name": "python",
   "nbconvert_exporter": "python",
   "pygments_lexer": "ipython3",
   "version": "3.7.11"
  }
 },
 "nbformat": 4,
 "nbformat_minor": 5
}
