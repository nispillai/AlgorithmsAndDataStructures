{
 "cells": [
  {
   "cell_type": "code",
   "execution_count": 1,
   "id": "5d6c0dbc",
   "metadata": {},
   "outputs": [],
   "source": [
    "class Solution:\n",
    "    def lengthOfLongestSubstring(self, s: str) -> int:                \n",
    "        sStr = []\n",
    "        count = 0\n",
    "        \n",
    "        for i in range(len(s)):\n",
    "            j = i\n",
    "            flag = True\n",
    "            tStr = []\n",
    "            while flag:\n",
    "                if s[j] in tStr:\n",
    "                    flag = False\n",
    "                else:\n",
    "                    tStr.append(s[j])\n",
    "                    j += 1\n",
    "                    if j == len(s):\n",
    "                        flag = False\n",
    "            if count < len(tStr):\n",
    "                count = len(tStr)\n",
    "                sStr = tStr\n",
    "        return count  "
   ]
  },
  {
   "cell_type": "code",
   "execution_count": 24,
   "id": "57c51fd1",
   "metadata": {},
   "outputs": [],
   "source": [
    "class Solution1:\n",
    "    def lengthOfLongestSubstring(self, s: str) -> int: \n",
    "            \n",
    "            i = 0\n",
    "            j = 0\n",
    "            \n",
    "            count = 0\n",
    "            \n",
    "            ch = [0] * 128\n",
    "            \n",
    "            while j < len(s): \n",
    "                ch[ord(s[j])] += 1\n",
    "                if ch[ord(s[j])] > 1:\n",
    "                    while ord(s[i]) != ord(s[j]):\n",
    "                        ch[ord(s[i])] -= 1\n",
    "                        i += 1\n",
    "                    ch[ord(s[i])] -= 1\n",
    "                    i += 1\n",
    "                else:\n",
    "                    count = max(count, j -i + 1)\n",
    "                j += 1\n",
    "                \n",
    "            return count\n",
    "        "
   ]
  },
  {
   "cell_type": "code",
   "execution_count": 26,
   "id": "96925273",
   "metadata": {},
   "outputs": [],
   "source": [
    "class Solution2:\n",
    "    def lengthOfLongestSubstring(self, s: str) -> int: \n",
    "        i = 0\n",
    "        count = 0\n",
    "        strMap = {}\n",
    "        for j in range(len(s)):\n",
    "            if s[j] in strMap:\n",
    "                i = max(strMap[s[j]], i)\n",
    "            count = max(count, j - i + 1)\n",
    "            strMap[s[j]] = j + 1\n",
    "        return count"
   ]
  },
  {
   "cell_type": "code",
   "execution_count": 27,
   "id": "61dcbd29",
   "metadata": {},
   "outputs": [
    {
     "name": "stdout",
     "output_type": "stream",
     "text": [
      "3\n"
     ]
    }
   ],
   "source": [
    "sol = Solution2()\n",
    "s = \"\"\n",
    "#s = \"  \"\n",
    "#s = \"abcabcbb\"\n",
    "#s = \"bbbbb\"\n",
    "s = \"pwwkew\"\n",
    "print(sol.lengthOfLongestSubstring(s))"
   ]
  },
  {
   "cell_type": "code",
   "execution_count": null,
   "id": "984b9708",
   "metadata": {},
   "outputs": [],
   "source": []
  }
 ],
 "metadata": {
  "kernelspec": {
   "display_name": "Python 3 (ipykernel)",
   "language": "python",
   "name": "python3"
  },
  "language_info": {
   "codemirror_mode": {
    "name": "ipython",
    "version": 3
   },
   "file_extension": ".py",
   "mimetype": "text/x-python",
   "name": "python",
   "nbconvert_exporter": "python",
   "pygments_lexer": "ipython3",
   "version": "3.7.11"
  }
 },
 "nbformat": 4,
 "nbformat_minor": 5
}
