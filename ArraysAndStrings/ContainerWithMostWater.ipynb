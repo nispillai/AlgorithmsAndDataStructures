{
 "cells": [
  {
   "cell_type": "code",
   "execution_count": 2,
   "id": "f65cd52f",
   "metadata": {},
   "outputs": [],
   "source": [
    "#brute-force - time out\n",
    "class Solution:\n",
    "    def maxArea(self, height) -> int:\n",
    "        if len(height) < 2:\n",
    "            return 0\n",
    "        if len(height) == 2:\n",
    "            return min(height)\n",
    "        \n",
    "        mH = 0\n",
    "        for i in range(len(height) - 2):\n",
    "            for j in range(len(height) - 1, i, -1):\n",
    "                mH = max(mH, (j-i) * min(height[i], height[j]))\n",
    "        return mH"
   ]
  },
  {
   "cell_type": "code",
   "execution_count": 7,
   "id": "cc2ffa13",
   "metadata": {},
   "outputs": [],
   "source": [
    "class Solution1:\n",
    "    \n",
    "    def maxArea(self, height) -> int:\n",
    "        if len(height) < 2:\n",
    "            return 0\n",
    "        \n",
    "        mH = 0\n",
    "        i = 0\n",
    "        j = len(height) - 1\n",
    "        while i < j:\n",
    "            mH = max(mH, (j-i) * min(height[i], height[j]))\n",
    "            if height[i] < height[j]:\n",
    "                i += 1\n",
    "            else:\n",
    "                j -= 1\n",
    "        return mH"
   ]
  },
  {
   "cell_type": "code",
   "execution_count": 8,
   "id": "78d67b65",
   "metadata": {},
   "outputs": [
    {
     "name": "stdout",
     "output_type": "stream",
     "text": [
      "2\n"
     ]
    }
   ],
   "source": [
    "s = Solution1()\n",
    "h = [2,2,1]\n",
    "print(s.maxArea(h))"
   ]
  },
  {
   "cell_type": "code",
   "execution_count": null,
   "id": "5f08557f",
   "metadata": {},
   "outputs": [],
   "source": []
  }
 ],
 "metadata": {
  "kernelspec": {
   "display_name": "Python 3 (ipykernel)",
   "language": "python",
   "name": "python3"
  },
  "language_info": {
   "codemirror_mode": {
    "name": "ipython",
    "version": 3
   },
   "file_extension": ".py",
   "mimetype": "text/x-python",
   "name": "python",
   "nbconvert_exporter": "python",
   "pygments_lexer": "ipython3",
   "version": "3.7.11"
  }
 },
 "nbformat": 4,
 "nbformat_minor": 5
}
