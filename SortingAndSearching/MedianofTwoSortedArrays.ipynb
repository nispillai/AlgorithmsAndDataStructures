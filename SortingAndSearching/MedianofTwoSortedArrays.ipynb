{
 "cells": [
  {
   "cell_type": "code",
   "execution_count": 8,
   "id": "c241c618",
   "metadata": {},
   "outputs": [],
   "source": [
    "class Solution:\n",
    "    # [1 2 3 4] [ 1 2 3 4 5 6]\n",
    "    # [1] [2]\n",
    "    # [1 2] [1 1]\n",
    "    #[1 2] [ 3 4]\n",
    "                \n",
    "    def getMedian(self, A, B, startA, endA, _total, _mid):\n",
    "\n",
    "        posA = (endA + startA) // 2 # 0\n",
    "        posB = _mid - posA - 2 # 2\n",
    "        \n",
    "        leftA = (A[posA] if posA >= 0 else float(\"-inf\")) # -inf\n",
    "        leftB = (B[posB] if posB >= 0 else float(\"-inf\")) # 3\n",
    "        rightA = (A[posA + 1] if (posA +1) < len(A) else float(\"inf\")) # 2\n",
    "        rightB = (B[posB + 1] if (posB + 1) < len(B) else float(\"inf\")) # inf\n",
    "        \n",
    "        if leftA > rightB:\n",
    "            return self.getMedian(A, B, startA, endA-1, _total, _mid)\n",
    "  \n",
    "        elif leftB > rightA: \n",
    "            return self.getMedian(A, B, startA + 1, endA, _total, _mid)\n",
    "            \n",
    "        else:\n",
    "            if _total % 2:\n",
    "                return max(leftA, leftB)\n",
    "            return (max(leftA, leftB) + min(rightA, rightB)) / 2\n",
    "        return float('-inf')\n",
    "            \n",
    "    def findMedianSortedArrays(self, nums1, nums2):\n",
    "        if (len(nums1) + len(nums2)) == 0:\n",
    "            return 0.0\n",
    "        A, B = nums1, nums2\n",
    "        if len(nums1) > len(nums2):\n",
    "            B, A = A, B\n",
    "        if len(nums1) == 0 or len(nums2) == 0:\n",
    "            mid = len(B) // 2\n",
    "            if len(B) % 2:\n",
    "                # length is odd\n",
    "                return B[mid]\n",
    "            #length is even\n",
    "            return (B[mid - 1] + B[mid])/2       \n",
    "        _total = len(A) + len(B)\n",
    "        _mid = _total // 2\n",
    "        if _total % 2:\n",
    "            _mid += 1\n",
    "        startA = 0\n",
    "        endA = len(A) - 1\n",
    "        return self.getMedian(A, B, startA, endA, _total, _mid)"
   ]
  },
  {
   "cell_type": "code",
   "execution_count": null,
   "id": "20a8c209",
   "metadata": {},
   "outputs": [],
   "source": []
  },
  {
   "cell_type": "code",
   "execution_count": null,
   "id": "b6f3dd4c",
   "metadata": {},
   "outputs": [],
   "source": []
  }
 ],
 "metadata": {
  "kernelspec": {
   "display_name": "Python 3 (ipykernel)",
   "language": "python",
   "name": "python3"
  },
  "language_info": {
   "codemirror_mode": {
    "name": "ipython",
    "version": 3
   },
   "file_extension": ".py",
   "mimetype": "text/x-python",
   "name": "python",
   "nbconvert_exporter": "python",
   "pygments_lexer": "ipython3",
   "version": "3.7.11"
  }
 },
 "nbformat": 4,
 "nbformat_minor": 5
}
