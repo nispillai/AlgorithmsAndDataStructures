{
 "cells": [
  {
   "cell_type": "code",
   "execution_count": 1,
   "id": "1bbc4363",
   "metadata": {},
   "outputs": [],
   "source": [
    "class Solution:\n",
    "    def merge(self, intervals):\n",
    "        intervals = sorted(intervals) #[[1,2],[3,6],[8,10],[15,18]]\n",
    "        nIntervals = [intervals[0]] # [[1,2]]\n",
    "        for i in range(1, len(intervals)): #1..3\n",
    "            val = intervals[i] #[3,6]\n",
    "            lim = nIntervals[len(nIntervals) -1]\n",
    "            if lim[1] >= val[0]:\n",
    "                if val[1] > lim[1]:\n",
    "                    nIntervals.pop()\n",
    "                    nIntervals.append([lim[0], val[1]])\n",
    "            else:\n",
    "                nIntervals.append([val[0], val[1]])\n",
    "        return nIntervals"
   ]
  },
  {
   "cell_type": "code",
   "execution_count": null,
   "id": "6a72e89a",
   "metadata": {},
   "outputs": [],
   "source": []
  }
 ],
 "metadata": {
  "kernelspec": {
   "display_name": "Python 3 (ipykernel)",
   "language": "python",
   "name": "python3"
  },
  "language_info": {
   "codemirror_mode": {
    "name": "ipython",
    "version": 3
   },
   "file_extension": ".py",
   "mimetype": "text/x-python",
   "name": "python",
   "nbconvert_exporter": "python",
   "pygments_lexer": "ipython3",
   "version": "3.7.11"
  }
 },
 "nbformat": 4,
 "nbformat_minor": 5
}
