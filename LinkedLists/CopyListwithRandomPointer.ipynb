{
 "cells": [
  {
   "cell_type": "code",
   "execution_count": 1,
   "id": "5c16cec8",
   "metadata": {},
   "outputs": [],
   "source": [
    "class Solution:\n",
    "    def copyRandomList(self, head):\n",
    "        if head is None:\n",
    "            return None\n",
    "        cur = head\n",
    "        newHead = Node(x=-1)\n",
    "        mapNodes = {}\n",
    "        size = 0 \n",
    "        while head not in mapNodes and head:\n",
    "            newHead.next = Node(x=head.val)\n",
    "            newHead = newHead.next\n",
    "            mapNodes[head] = newHead\n",
    "            size += 1\n",
    "            head = head.next\n",
    "        if head is not None:\n",
    "            newHead.next = mapNodes[head]\n",
    "        else:\n",
    "            newHead.next = None\n",
    "        head = cur\n",
    "        while size > -1 and head:\n",
    "            newHead = mapNodes[head] \n",
    "            newHead.random = (mapNodes[head.random] if head.random else None)\n",
    "            head = head.next\n",
    "            size -= 1\n",
    "        return mapNodes[cur]"
   ]
  },
  {
   "cell_type": "code",
   "execution_count": null,
   "id": "5456cc5b",
   "metadata": {},
   "outputs": [],
   "source": []
  }
 ],
 "metadata": {
  "kernelspec": {
   "display_name": "Python 3 (ipykernel)",
   "language": "python",
   "name": "python3"
  },
  "language_info": {
   "codemirror_mode": {
    "name": "ipython",
    "version": 3
   },
   "file_extension": ".py",
   "mimetype": "text/x-python",
   "name": "python",
   "nbconvert_exporter": "python",
   "pygments_lexer": "ipython3",
   "version": "3.7.11"
  }
 },
 "nbformat": 4,
 "nbformat_minor": 5
}
