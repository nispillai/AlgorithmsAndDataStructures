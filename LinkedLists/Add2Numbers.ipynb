{
 "cells": [
  {
   "cell_type": "code",
   "execution_count": 1,
   "id": "ade70e00",
   "metadata": {},
   "outputs": [],
   "source": [
    "class Solution:\n",
    "    def addTwoNumbers(self, l1, l2):       \n",
    "        if l1 == None:\n",
    "            return l2\n",
    "        if l2 == None:\n",
    "            return l1\n",
    "        \n",
    "        _rem = 0\n",
    "        _sum = None\n",
    "        _head = None\n",
    "        \n",
    "        while l1 != None and l2 != None:\n",
    "            nVal = l1.val + l2.val + _rem\n",
    "            node = ListNode(val=nVal % 10)\n",
    "            _rem = int(nVal / 10)\n",
    "            if _sum == None:\n",
    "                _head = node\n",
    "                _sum = node\n",
    "            else:\n",
    "                _sum.next = node\n",
    "                _sum = _sum.next\n",
    "            l1 = l1.next\n",
    "            l2 = l2.next\n",
    "            \n",
    "        l = l1\n",
    "        if l1 == None:\n",
    "            l = l2\n",
    "        while l != None:\n",
    "            nVal = l.val + _rem\n",
    "            node = ListNode(val=nVal % 10)\n",
    "            _rem = int(nVal / 10)\n",
    "            _sum.next = node\n",
    "            _sum = _sum.next\n",
    "            l = l.next\n",
    "        while _rem != 0:\n",
    "            node = ListNode(val=_rem % 10)\n",
    "            _rem = int(_rem / 10)\n",
    "            _sum.next = node\n",
    "            _sum = _sum.next\n",
    "        return _head"
   ]
  },
  {
   "cell_type": "code",
   "execution_count": 2,
   "id": "8ea762dd",
   "metadata": {},
   "outputs": [],
   "source": [
    "class Solution1:\n",
    "    def addTwoNumbers(self, l1, l2):   \n",
    "        _rem = 0\n",
    "        _head = ListNode(val=0)\n",
    "        _sum = _head\n",
    "        while l1 or l2 or _rem:\n",
    "            val1 = (l1.val if l1 else 0)\n",
    "            val2 = (l2.val if l2 else 0)\n",
    "            _rem, nVal = divmod(val1 + val2 + _rem, 10)\n",
    "            _sum.next = ListNode(val=nVal)\n",
    "            _sum = _sum.next\n",
    "            l1 = (l1.next if l1 else None)\n",
    "            l2 = (l2.next if l2 else None)\n",
    "        return _head.next        "
   ]
  },
  {
   "cell_type": "code",
   "execution_count": null,
   "id": "b8fa1873",
   "metadata": {},
   "outputs": [],
   "source": []
  }
 ],
 "metadata": {
  "kernelspec": {
   "display_name": "Python 3 (ipykernel)",
   "language": "python",
   "name": "python3"
  },
  "language_info": {
   "codemirror_mode": {
    "name": "ipython",
    "version": 3
   },
   "file_extension": ".py",
   "mimetype": "text/x-python",
   "name": "python",
   "nbconvert_exporter": "python",
   "pygments_lexer": "ipython3",
   "version": "3.7.11"
  }
 },
 "nbformat": 4,
 "nbformat_minor": 5
}
