{
 "cells": [
  {
   "cell_type": "code",
   "execution_count": 1,
   "id": "14418475",
   "metadata": {},
   "outputs": [],
   "source": [
    "class Solution:\n",
    "    def removeNthFromEnd(self, head, n):\n",
    "        l1 = l2 = head\n",
    "        while n > 0 and l2 != None:\n",
    "            l2 = l2.next\n",
    "            n -= 1\n",
    "        if l2 == None:\n",
    "            return l1.next             \n",
    "        while l2.next != None:\n",
    "            l1 = l1.next\n",
    "            l2 = l2.next\n",
    "       \n",
    "        l1.next = l1.next.next\n",
    "        return head\n"
   ]
  },
  {
   "cell_type": "code",
   "execution_count": null,
   "id": "f1f8b49d",
   "metadata": {},
   "outputs": [],
   "source": []
  }
 ],
 "metadata": {
  "kernelspec": {
   "display_name": "Python 3 (ipykernel)",
   "language": "python",
   "name": "python3"
  },
  "language_info": {
   "codemirror_mode": {
    "name": "ipython",
    "version": 3
   },
   "file_extension": ".py",
   "mimetype": "text/x-python",
   "name": "python",
   "nbconvert_exporter": "python",
   "pygments_lexer": "ipython3",
   "version": "3.7.11"
  }
 },
 "nbformat": 4,
 "nbformat_minor": 5
}
