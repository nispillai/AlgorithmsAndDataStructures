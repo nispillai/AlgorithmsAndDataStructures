{
 "cells": [
  {
   "cell_type": "code",
   "execution_count": 1,
   "id": "f172c0e3",
   "metadata": {},
   "outputs": [],
   "source": [
    "class Solution:\n",
    "    def mergeTwoLists(self, list1, list2):\n",
    "        head = ListNode(val=0)\n",
    "        cur = head\n",
    "        while list1 and list2:\n",
    "            if list1.val > list2.val:\n",
    "                cur.next = list2\n",
    "                list2 = list2.next               \n",
    "            else:\n",
    "                cur.next = list1\n",
    "                list1 = list1.next\n",
    "            cur = cur.next\n",
    "                \n",
    "        l = list1\n",
    "        if list2:\n",
    "            l = list2\n",
    "        cur.next = l\n",
    "        return head.next"
   ]
  },
  {
   "cell_type": "code",
   "execution_count": null,
   "id": "30c88d3e",
   "metadata": {},
   "outputs": [],
   "source": []
  }
 ],
 "metadata": {
  "kernelspec": {
   "display_name": "Python 3 (ipykernel)",
   "language": "python",
   "name": "python3"
  },
  "language_info": {
   "codemirror_mode": {
    "name": "ipython",
    "version": 3
   },
   "file_extension": ".py",
   "mimetype": "text/x-python",
   "name": "python",
   "nbconvert_exporter": "python",
   "pygments_lexer": "ipython3",
   "version": "3.7.11"
  }
 },
 "nbformat": 4,
 "nbformat_minor": 5
}
